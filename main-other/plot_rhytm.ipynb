{
 "cells": [
  {
   "cell_type": "code",
   "execution_count": null,
   "metadata": {},
   "outputs": [],
   "source": [
    "import numpy as np\n",
    "import pandas as pd\n",
    "import matplotlib.pyplot as plt\n",
    "\n",
    "import tensorflow as tf\n",
    "\n",
    "import confmain\n",
    "from util_module import util_func\n",
    "from util_module.util_func import plot_rhytm, plot_rhytm_gt_pred"
   ]
  },
  {
   "cell_type": "code",
   "execution_count": null,
   "metadata": {},
   "outputs": [],
   "source": [
    "LEADS = ['i', 'ii', 'iii', 'avr', 'avl', 'avf', 'v1', 'v2', 'v3', 'v4', 'v5', 'v6']\n",
    "lead_display_name = ['I', 'II', 'III', 'aVR', 'aVL', 'aVF', 'V1', 'V2', 'V3', 'V4', 'V5', 'V6']\n",
    "\n",
    "for lead, lead_name in zip(LEADS, lead_display_name):\n",
    "    train_set, val_set, test_set, zpad_length = util_func.get_x_y(f'../data/ludb_processed/ludb_{lead}.pickle')\n",
    "\n",
    "    X_train, y_train = train_set\n",
    "    X_val, y_val = val_set\n",
    "    X_test, y_test = test_set\n",
    "\n",
    "    zpad_length_train, zpad_length_val, zpad_length_test = zpad_length\n",
    "\n",
    "    model = tf.keras.models.load_model(f'../model/{lead}-CustomModel.h5')\n",
    "    y_pred_val = model.predict(X_val)\n",
    "\n",
    "    plot_rhytm_gt_pred(X_val, y_val, y_pred_val,\n",
    "                        zpad=zpad_length_val,\n",
    "                        start_idx=0,\n",
    "                        length=1,\n",
    "                        fig_title=f'Lead {lead_name}',\n",
    "                        save_path=f'../result/other/{lead_name}_val.jpg')"
   ]
  },
  {
   "cell_type": "code",
   "execution_count": null,
   "metadata": {},
   "outputs": [],
   "source": [
    "import matplotlib.pyplot as plt\n",
    "import matplotlib.patches as patches\n",
    "\n",
    "SEGMENTS_NUM = {\n",
    "    'Pon-Poff': 0,\n",
    "    'Poff-QRSon': 1,\n",
    "    'QRSon-Rpeak': 2,\n",
    "    'Rpeak-QRSoff': 3,\n",
    "    'QRSoff-Ton': 4,\n",
    "    'Ton-Toff': 5,\n",
    "    'Toff-Pon2': 6,\n",
    "    'Zero padding': 7\n",
    "}\n",
    "\n",
    "segments = [\n",
    "    '$\\mathrm{P_{on}-P_{off}}$',\n",
    "    '$\\mathrm{P_{off}-QRS_{on}}$',\n",
    "    '$\\mathrm{QRS_{on}-R_{peak}}$',\n",
    "    '$\\mathrm{R_{peak}-QRS_{off}}$',\n",
    "    '$\\mathrm{QRS_{off}-T_{on}}$',\n",
    "    '$\\mathrm{T_{on}-T_{off}}$',\n",
    "    '$\\mathrm{T_{off}-P_{on2}}$',\n",
    "]\n",
    "colors = ['red', 'darkorange', 'yellow', 'green', 'blue', 'darkcyan', 'purple']\n",
    "\n",
    "fig1 = plt.figure()\n",
    "\n",
    "legend_patches = []\n",
    "\n",
    "for seg, color in zip(segments, colors):\n",
    "    if seg == -1: continue\n",
    "\n",
    "    patch = patches.Patch(color=color, label=seg, alpha=0.4)\n",
    "    legend_patches.append(patch)\n",
    "\n",
    "fig1.legend(handles=legend_patches, loc='lower left', ncol=len(segments), framealpha=0.0)\n",
    "fig1.savefig('../result/other/legend', bbox_inches='tight')"
   ]
  },
  {
   "cell_type": "code",
   "execution_count": null,
   "metadata": {},
   "outputs": [],
   "source": [
    "plot_rhytm(X_val, y_val, zpad=zpad_length_val, start_idx=13, length=5)"
   ]
  }
 ],
 "metadata": {
  "kernelspec": {
   "display_name": "env",
   "language": "python",
   "name": "python3"
  },
  "language_info": {
   "codemirror_mode": {
    "name": "ipython",
    "version": 3
   },
   "file_extension": ".py",
   "mimetype": "text/x-python",
   "name": "python",
   "nbconvert_exporter": "python",
   "pygments_lexer": "ipython3",
   "version": "3.11.1"
  },
  "orig_nbformat": 4
 },
 "nbformat": 4,
 "nbformat_minor": 2
}
