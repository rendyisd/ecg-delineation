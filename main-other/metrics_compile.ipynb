{
 "cells": [
  {
   "cell_type": "code",
   "execution_count": 1,
   "metadata": {},
   "outputs": [],
   "source": [
    "import confmain\n",
    "\n",
    "import os\n",
    "import numpy as np\n",
    "import pandas as pd\n",
    "\n",
    "from util_module import util_func"
   ]
  },
  {
   "cell_type": "code",
   "execution_count": 2,
   "metadata": {},
   "outputs": [],
   "source": [
    "# LEADS = ['i', 'ii', 'iii', 'avr', 'avl', 'avf', 'v1', 'v2', 'v3', 'v4', 'v5', 'v6']\n",
    "LEADS = ['v1', 'v2', 'v3', 'v4', 'v5', 'v6']\n",
    "# LEADS = ['v2']\n",
    "MODEL_NAME = 'CustomModel'\n",
    "DATASET_TYPE = 'val'"
   ]
  },
  {
   "cell_type": "code",
   "execution_count": 3,
   "metadata": {},
   "outputs": [],
   "source": [
    "util_func.make_dir('../result/other/')\n",
    "\n",
    "metrics_compiled_dict = {\n",
    "    'Performance metrics': ['Recall', 'Precision', 'Specificity', 'F1-score', 'Accuracy', 'Error rate']\n",
    "}\n",
    "\n",
    "means = []\n",
    "\n",
    "for lead in LEADS:\n",
    "    metrics_df = pd.read_csv(f'../result/{lead}-{MODEL_NAME}/{DATASET_TYPE}/metrics.csv')\n",
    "\n",
    "    # Macro-average row\n",
    "    metrics_compiled_dict[lead] = metrics_df.iloc[-2, 1:].to_numpy().astype(np.float64).tolist()\n",
    "\n",
    "metrics_compiled = pd.DataFrame(metrics_compiled_dict)\n",
    "metrics_compiled['Average'] = metrics_compiled.loc[:, LEADS].mean(axis=1)\n",
    "metrics_compiled.Average = metrics_compiled.Average.round(2)\n",
    "metrics_compiled.to_csv('../result/other/metrics_compiled.csv', index=False)\n",
    "# metrics_compiled"
   ]
  }
 ],
 "metadata": {
  "kernelspec": {
   "display_name": "env",
   "language": "python",
   "name": "python3"
  },
  "language_info": {
   "codemirror_mode": {
    "name": "ipython",
    "version": 3
   },
   "file_extension": ".py",
   "mimetype": "text/x-python",
   "name": "python",
   "nbconvert_exporter": "python",
   "pygments_lexer": "ipython3",
   "version": "3.11.1"
  }
 },
 "nbformat": 4,
 "nbformat_minor": 2
}
