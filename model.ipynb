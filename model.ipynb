{
 "cells": [
  {
   "cell_type": "code",
   "execution_count": null,
   "metadata": {},
   "outputs": [],
   "source": [
    "import numpy as np\n",
    "import matplotlib.pyplot as plt\n",
    "\n",
    "import tensorflow as tf\n",
    "\n",
    "from sklearn.model_selection import train_test_split\n",
    "\n",
    "import data_utils"
   ]
  },
  {
   "cell_type": "code",
   "execution_count": null,
   "metadata": {},
   "outputs": [],
   "source": [
    "dataset = data_utils.open_pickle('data/ludb_processed/ludb.pickle')\n",
    "\n",
    "X = dataset['X']\n",
    "y = dataset['y']"
   ]
  },
  {
   "cell_type": "markdown",
   "metadata": {},
   "source": [
    "#### Splitting X and y to train, validation, and test set"
   ]
  },
  {
   "cell_type": "code",
   "execution_count": null,
   "metadata": {},
   "outputs": [],
   "source": [
    "X_train, X_temp, y_train, y_temp = train_test_split(X, y, test_size=.2, shuffle=False, random_state=2023)\n",
    "X_test, X_val, y_test, y_val = train_test_split(X_temp, y_temp, test_size=.5, shuffle=False, random_state=2023)\n",
    "\n",
    "len(X_train), len(X_val), len(X_test)"
   ]
  },
  {
   "cell_type": "code",
   "execution_count": null,
   "metadata": {},
   "outputs": [],
   "source": [
    "print(\"X_train shape:\", X_train.shape)\n",
    "print(\"y_train shape:\", y_train.shape)"
   ]
  },
  {
   "cell_type": "code",
   "execution_count": null,
   "metadata": {},
   "outputs": [],
   "source": [
    "def generate_model(input_shape, output, lr=1e-5, n_layer=1):\n",
    "    model = tf.keras.models.Sequential()\n",
    "    opt = tf.keras.optimizers.Adam(learning_rate=lr)\n",
    "\n",
    "    # Conv layers\n",
    "    model.add(tf.keras.layers.Conv1D(8, 3, input_shape=input_shape, padding='same', activation='relu'))\n",
    "    model.add(tf.keras.layers.Conv1D(16, 3, padding='same', activation='relu'))\n",
    "    model.add(tf.keras.layers.Conv1D(32, 3, padding='same', activation='relu'))\n",
    "    model.add(tf.keras.layers.Conv1D(64, 3, padding='same', activation='relu'))\n",
    "\n",
    "    # Bidirectional LSTM\n",
    "    model.add(tf.keras.layers.Bidirectional(tf.keras.layers.LSTM(512, input_shape=input_shape, return_sequences=True)))\n",
    "\n",
    "    for i in range(n_layer-1):\n",
    "        model.add(tf.keras.layers.Bidirectional(tf.keras.layers.LSTM(512, return_sequences=True)))\n",
    "\n",
    "    # Fully connected layers\n",
    "    model.add(tf.keras.layers.Dense(output, activation='softmax'))\n",
    "    model.compile(optimizer=opt, loss='categorical_crossentropy', metrics=['accuracy'])\n",
    "\n",
    "    return model"
   ]
  },
  {
   "cell_type": "code",
   "execution_count": null,
   "metadata": {},
   "outputs": [],
   "source": [
    "model = generate_model((1387, 1), 7)\n",
    "model.summary()"
   ]
  },
  {
   "cell_type": "code",
   "execution_count": null,
   "metadata": {},
   "outputs": [],
   "source": [
    "model.fit(X_train, y_train, epochs=100, batch_size=8, validation_data=(X_val, y_val))"
   ]
  }
 ],
 "metadata": {
  "kernelspec": {
   "display_name": "env",
   "language": "python",
   "name": "python3"
  },
  "language_info": {
   "codemirror_mode": {
    "name": "ipython",
    "version": 3
   },
   "file_extension": ".py",
   "mimetype": "text/x-python",
   "name": "python",
   "nbconvert_exporter": "python",
   "pygments_lexer": "ipython3",
   "version": "3.11.1"
  },
  "orig_nbformat": 4
 },
 "nbformat": 4,
 "nbformat_minor": 2
}
