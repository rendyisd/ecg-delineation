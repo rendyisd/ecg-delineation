{
 "cells": [
  {
   "cell_type": "code",
   "execution_count": null,
   "metadata": {},
   "outputs": [],
   "source": [
    "import confmain\n",
    "import os\n",
    "import time\n",
    "import numpy as np\n",
    "import pandas as pd\n",
    "import tensorflow as tf\n",
    "\n",
    "from tensorflow.keras.regularizers import L1L2\n",
    "\n",
    "from util_module import util_func\n",
    "from util_module import model_func"
   ]
  },
  {
   "cell_type": "markdown",
   "metadata": {},
   "source": [
    "#### **Load X and Y**"
   ]
  },
  {
   "cell_type": "code",
   "execution_count": null,
   "metadata": {},
   "outputs": [],
   "source": [
    "train_set, val_set, test_set, zpad_length = util_func.get_x_y('../data/ludb_processed/ludb_ii.pickle')\n",
    "\n",
    "X_train, y_train = train_set\n",
    "X_val, y_val = val_set\n",
    "X_test, y_test = test_set\n",
    "\n",
    "zpad_length_train, zpad_length_val, zpad_length_test = zpad_length"
   ]
  },
  {
   "cell_type": "markdown",
   "metadata": {},
   "source": [
    "#### **Transfer Learning Model Hafizh - Jordan**"
   ]
  },
  {
   "cell_type": "code",
   "execution_count": null,
   "metadata": {},
   "outputs": [],
   "source": [
    "# CHANGE ACCORDINGLY MOST OF THE THINGS HERE ARE HARD-CODED\n",
    "model_info = {\n",
    "    'name': 'TransferLearning_Hafizh-Jordan',\n",
    "    'batch_size': 8,\n",
    "    'Additional Info': 'Learning rate 0.001 for first 100 epochs and 0.00001 for the remaining 200 epochs'\n",
    "    \n",
    "}\n",
    "\n",
    "model_hafizh = tf.keras.models.load_model(f'../model/base_model/hafizh.h5')\n",
    "model_hafizh.trainable = False # Freeze layers\n",
    "\n",
    "input_layer = tf.keras.layers.Input(shape=(X_train.shape[1], 1))\n",
    "x = tf.keras.layers.Conv1D(8, 5, padding='same', activation='relu')(input_layer)\n",
    "x = tf.keras.layers.Normalization()(x)\n",
    "x = tf.keras.layers.ReLU()(x)\n",
    "for layer in model_hafizh.layers[1:7]:\n",
    "    x = layer(x)\n",
    "x = tf.keras.layers.Dropout(rate=0.3)(x)\n",
    "x = tf.keras.layers.Bidirectional(tf.keras.layers.LSTM(X_train.shape[1], kernel_regularizer=L1L2(l2=0.0001), return_sequences=True))(x)\n",
    "x = tf.keras.layers.Dense(512, kernel_regularizer=L1L2(l2=0.0001), activation='relu')(x)\n",
    "x = tf.keras.layers.Dropout(rate=0.3)(x)\n",
    "output_layer = tf.keras.layers.Dense(8, activation='softmax')(x)\n",
    "\n",
    "new_model = tf.keras.models.Model(inputs=input_layer, outputs=output_layer)\n",
    "\n",
    "opt = tf.keras.optimizers.Adam(learning_rate=0.001)\n",
    "new_model.compile(optimizer=opt, loss='categorical_crossentropy', metrics=['accuracy'])\n",
    "history_phase_1 = new_model.fit(X_train, y_train, epochs=100, batch_size=8, validation_data=(X_val, y_val))\n",
    "\n",
    "# Fine-tune\n",
    "for layer in new_model.layers[6:10]:\n",
    "    layer.trainable = True\n",
    "opt = tf.keras.optimizers.Adam(learning_rate=0.00001)\n",
    "new_model.compile(optimizer=opt, loss='categorical_crossentropy', metrics=['accuracy'])\n",
    "history_phase_2 = new_model.fit(X_train, y_train, epochs=200, batch_size=8, validation_data=(X_val, y_val))\n",
    "\n",
    "history_combined = {}\n",
    "for key in history_phase_1.history.keys():\n",
    "    history_combined[key] = history_phase_1.history[key] + history_phase_2.history[key]"
   ]
  },
  {
   "cell_type": "code",
   "execution_count": null,
   "metadata": {},
   "outputs": [],
   "source": [
    "model_func.generate_results(new_model, history_combined, model_info, train_set, val_set, test_set, zpad_length)"
   ]
  }
 ],
 "metadata": {
  "kernelspec": {
   "display_name": "env",
   "language": "python",
   "name": "python3"
  },
  "language_info": {
   "codemirror_mode": {
    "name": "ipython",
    "version": 3
   },
   "file_extension": ".py",
   "mimetype": "text/x-python",
   "name": "python",
   "nbconvert_exporter": "python",
   "pygments_lexer": "ipython3",
   "version": "3.11.1"
  }
 },
 "nbformat": 4,
 "nbformat_minor": 2
}
