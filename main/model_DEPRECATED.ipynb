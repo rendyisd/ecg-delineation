{
 "cells": [
  {
   "cell_type": "code",
   "execution_count": 1,
   "metadata": {},
   "outputs": [],
   "source": [
    "import confmain\n",
    "import os\n",
    "import time\n",
    "import numpy as np\n",
    "import pandas as pd\n",
    "# import optuna\n",
    "\n",
    "# from functools import partial\n",
    "from util_module import util_func\n",
    "from util_module import model_func\n",
    "from util_module.ecg_signal import ECGSignal"
   ]
  },
  {
   "cell_type": "code",
   "execution_count": 2,
   "metadata": {},
   "outputs": [],
   "source": [
    "os.environ[\"CUDA_VISIBLE_DEVICES\"]=\"1\""
   ]
  },
  {
   "cell_type": "code",
   "execution_count": 3,
   "metadata": {},
   "outputs": [],
   "source": [
    "data = util_func.open_pickle('../data/ludb_processed/ludb_ii.pickle')\n",
    "df = pd.DataFrame(data=data)\n",
    "\n",
    "features = df.iloc[:, :-1]\n",
    "y = df.iloc[:, -1].values"
   ]
  },
  {
   "cell_type": "code",
   "execution_count": 4,
   "metadata": {},
   "outputs": [
    {
     "data": {
      "text/html": [
       "<div>\n",
       "<style scoped>\n",
       "    .dataframe tbody tr th:only-of-type {\n",
       "        vertical-align: middle;\n",
       "    }\n",
       "\n",
       "    .dataframe tbody tr th {\n",
       "        vertical-align: top;\n",
       "    }\n",
       "\n",
       "    .dataframe thead th {\n",
       "        text-align: right;\n",
       "    }\n",
       "</style>\n",
       "<table border=\"1\" class=\"dataframe\">\n",
       "  <thead>\n",
       "    <tr style=\"text-align: right;\">\n",
       "      <th></th>\n",
       "      <th>signal</th>\n",
       "      <th>zpad_length</th>\n",
       "      <th>lead</th>\n",
       "      <th>record</th>\n",
       "    </tr>\n",
       "  </thead>\n",
       "  <tbody>\n",
       "    <tr>\n",
       "      <th>0</th>\n",
       "      <td>[0.08850439843518387, 0.08897859885076265, 0.0...</td>\n",
       "      <td>117</td>\n",
       "      <td>ii</td>\n",
       "      <td>1</td>\n",
       "    </tr>\n",
       "    <tr>\n",
       "      <th>1</th>\n",
       "      <td>[0.10463043551463697, 0.10530828548045412, 0.1...</td>\n",
       "      <td>143</td>\n",
       "      <td>ii</td>\n",
       "      <td>1</td>\n",
       "    </tr>\n",
       "    <tr>\n",
       "      <th>2</th>\n",
       "      <td>[0.10091988943065344, 0.10087084064598667, 0.1...</td>\n",
       "      <td>101</td>\n",
       "      <td>ii</td>\n",
       "      <td>1</td>\n",
       "    </tr>\n",
       "    <tr>\n",
       "      <th>3</th>\n",
       "      <td>[0.09746709096359801, 0.09761873260349468, 0.0...</td>\n",
       "      <td>122</td>\n",
       "      <td>ii</td>\n",
       "      <td>1</td>\n",
       "    </tr>\n",
       "    <tr>\n",
       "      <th>4</th>\n",
       "      <td>[0.5120164035146119, 0.5135328061208422, 0.515...</td>\n",
       "      <td>341</td>\n",
       "      <td>ii</td>\n",
       "      <td>2</td>\n",
       "    </tr>\n",
       "    <tr>\n",
       "      <th>...</th>\n",
       "      <td>...</td>\n",
       "      <td>...</td>\n",
       "      <td>...</td>\n",
       "      <td>...</td>\n",
       "    </tr>\n",
       "    <tr>\n",
       "      <th>1215</th>\n",
       "      <td>[0.5347259925087768, 0.5348215446100493, 0.535...</td>\n",
       "      <td>308</td>\n",
       "      <td>ii</td>\n",
       "      <td>200</td>\n",
       "    </tr>\n",
       "    <tr>\n",
       "      <th>1216</th>\n",
       "      <td>[0.5001680409468325, 0.5006200407094533, 0.500...</td>\n",
       "      <td>302</td>\n",
       "      <td>ii</td>\n",
       "      <td>200</td>\n",
       "    </tr>\n",
       "    <tr>\n",
       "      <th>1217</th>\n",
       "      <td>[0.42787744376383396, 0.4288441012890669, 0.43...</td>\n",
       "      <td>307</td>\n",
       "      <td>ii</td>\n",
       "      <td>200</td>\n",
       "    </tr>\n",
       "    <tr>\n",
       "      <th>1218</th>\n",
       "      <td>[0.6360844351444723, 0.6354144571355634, 0.634...</td>\n",
       "      <td>298</td>\n",
       "      <td>ii</td>\n",
       "      <td>200</td>\n",
       "    </tr>\n",
       "    <tr>\n",
       "      <th>1219</th>\n",
       "      <td>[0.60128924221413, 0.6027606182959212, 0.60604...</td>\n",
       "      <td>300</td>\n",
       "      <td>ii</td>\n",
       "      <td>200</td>\n",
       "    </tr>\n",
       "  </tbody>\n",
       "</table>\n",
       "<p>1220 rows × 4 columns</p>\n",
       "</div>"
      ],
      "text/plain": [
       "                                                 signal  zpad_length lead  \\\n",
       "0     [0.08850439843518387, 0.08897859885076265, 0.0...          117   ii   \n",
       "1     [0.10463043551463697, 0.10530828548045412, 0.1...          143   ii   \n",
       "2     [0.10091988943065344, 0.10087084064598667, 0.1...          101   ii   \n",
       "3     [0.09746709096359801, 0.09761873260349468, 0.0...          122   ii   \n",
       "4     [0.5120164035146119, 0.5135328061208422, 0.515...          341   ii   \n",
       "...                                                 ...          ...  ...   \n",
       "1215  [0.5347259925087768, 0.5348215446100493, 0.535...          308   ii   \n",
       "1216  [0.5001680409468325, 0.5006200407094533, 0.500...          302   ii   \n",
       "1217  [0.42787744376383396, 0.4288441012890669, 0.43...          307   ii   \n",
       "1218  [0.6360844351444723, 0.6354144571355634, 0.634...          298   ii   \n",
       "1219  [0.60128924221413, 0.6027606182959212, 0.60604...          300   ii   \n",
       "\n",
       "      record  \n",
       "0          1  \n",
       "1          1  \n",
       "2          1  \n",
       "3          1  \n",
       "4          2  \n",
       "...      ...  \n",
       "1215     200  \n",
       "1216     200  \n",
       "1217     200  \n",
       "1218     200  \n",
       "1219     200  \n",
       "\n",
       "[1220 rows x 4 columns]"
      ]
     },
     "execution_count": 4,
     "metadata": {},
     "output_type": "execute_result"
    }
   ],
   "source": [
    "features"
   ]
  },
  {
   "cell_type": "markdown",
   "metadata": {},
   "source": [
    "#### Splitting to train, validation, and test set"
   ]
  },
  {
   "cell_type": "code",
   "execution_count": 5,
   "metadata": {},
   "outputs": [],
   "source": [
    "features_train, features_val, features_test, y_train, y_val, y_test = model_func.train_val_test_split(features, y)"
   ]
  },
  {
   "cell_type": "code",
   "execution_count": 6,
   "metadata": {},
   "outputs": [],
   "source": [
    "# DOING IT LIKE THIS IS NECESSARY TO SOLVE THE INCOMPATIBILITY WITH TENSOR, I DON'T KNOW WHY BUT IT WORKS\n",
    "X_train = np.array(features_train['signal'].tolist())\n",
    "X_val = np.array(features_val['signal'].tolist())\n",
    "X_test = np.array(features_test['signal'].tolist())\n",
    "\n",
    "zpad_length_train = features_train['zpad_length'].values\n",
    "zpad_length_val = features_val['zpad_length'].values\n",
    "zpad_length_test = features_test['zpad_length'].values"
   ]
  },
  {
   "cell_type": "code",
   "execution_count": 7,
   "metadata": {},
   "outputs": [
    {
     "data": {
      "text/plain": [
       "dtype('float64')"
      ]
     },
     "execution_count": 7,
     "metadata": {},
     "output_type": "execute_result"
    }
   ],
   "source": [
    "X_train.dtype"
   ]
  },
  {
   "cell_type": "code",
   "execution_count": 8,
   "metadata": {},
   "outputs": [
    {
     "ename": "NameError",
     "evalue": "name 'X_train' is not defined",
     "output_type": "error",
     "traceback": [
      "\u001b[1;31m---------------------------------------------------------------------------\u001b[0m",
      "\u001b[1;31mNameError\u001b[0m                                 Traceback (most recent call last)",
      "\u001b[1;32mc:\\dev\\ecg-delineation\\main\\model.ipynb Cell 8\u001b[0m line \u001b[0;36m1\n\u001b[1;32m----> <a href='vscode-notebook-cell:/c%3A/dev/ecg-delineation/main/model.ipynb#W6sZmlsZQ%3D%3D?line=0'>1</a>\u001b[0m X_train\u001b[39m.\u001b[39mshape[\u001b[39m0\u001b[39m], X_val\u001b[39m.\u001b[39mshape[\u001b[39m0\u001b[39m], X_test\u001b[39m.\u001b[39mshape[\u001b[39m0\u001b[39m]\n",
      "\u001b[1;31mNameError\u001b[0m: name 'X_train' is not defined"
     ]
    }
   ],
   "source": [
    "X_train.shape[0], X_val.shape[0], X_test.shape[0]"
   ]
  },
  {
   "cell_type": "markdown",
   "metadata": {},
   "source": [
    "#### Hyperparameter tuning"
   ]
  },
  {
   "cell_type": "markdown",
   "metadata": {},
   "source": [
    "Using CMA-ES (Covariance Matrix Adaptation - Evolution Strategy), implementation provided by optuna.<br>\n",
    "<br>\n",
    "CMA-ES objective will be to minimize validation loss."
   ]
  },
  {
   "cell_type": "code",
   "execution_count": null,
   "metadata": {},
   "outputs": [],
   "source": [
    "def plot_segments(X, y, zpad, idx, save_path):\n",
    "    signal = X[idx].flatten()\n",
    "    segment_map = y[idx].argmax(axis=1)\n",
    "\n",
    "    beat_span = len(signal) - zpad[idx]\n",
    "\n",
    "    signal = signal[:beat_span]\n",
    "    segment_map = segment_map[:beat_span]\n",
    "\n",
    "    ECGSignal.plot_signal_segments(signal, segment_map, save_path)"
   ]
  },
  {
   "cell_type": "code",
   "execution_count": null,
   "metadata": {},
   "outputs": [],
   "source": [
    "BATCH_SIZES = [8, 16, 32, 64]\n",
    "\n",
    "# def objective(trial, X_train, X_val, X_test, y_train, y_val, y_test):\n",
    "# # def objective(trial):\n",
    "#     start_time = time.time()\n",
    "\n",
    "#     lr = np.round(trial.suggest_float('lr', 1e-5, 1e-3, log=True), decimals=5)\n",
    "#     n_layer = trial.suggest_int('n_layer', 1, 5)\n",
    "#     batch_size_index = trial.suggest_int('batch_size_index', 0, len(BATCH_SIZES)-1)\n",
    "#     bs = BATCH_SIZES[batch_size_index]\n",
    "\n",
    "#     model_name = f'ConvBiLSTM-LR_{lr}-Nlayer_{n_layer}-BS_{bs}'\n",
    "#     result_path = f'../result/{model_name}'\n",
    "\n",
    "#     model = model_func.generate_model((X_train.shape[1], 1), 8, lr=lr, n_layer=n_layer)\n",
    "#     history = model.fit(X_train, y_train, epochs=200, batch_size=bs, validation_data=(X_val, y_val))\n",
    "\n",
    "#     model_func.plot_acc_loss(history, result_path)\n",
    "\n",
    "#     # PREDICT TRAIN\n",
    "#     save_to_train = f'{result_path}/train'\n",
    "#     y_pred_train = model.predict(X_train)\n",
    "#     model_func.calc_metrics(y_train, y_pred_train, save_to_train)\n",
    "#     model_func.roc_pr(y_train, y_pred_train, save_to_train)\n",
    "    \n",
    "#     util_func.make_dir(f'{save_to_train}/delineation')\n",
    "#     plot_segments(X_train, y_train, zpad=zpad_length_train, idx=0, save_path=f'{save_to_train}/delineation/Expert_annotated.jpg') # Expert annotated\n",
    "#     plot_segments(X_train, y_pred_train, zpad=zpad_length_train, idx=0, save_path=f'{save_to_train}/delineation/Prediction.jpg') # Prediction\n",
    "#     # ====================================================\n",
    "\n",
    "#     # PREDICT VALIDATION\n",
    "#     save_to_val = f'{result_path}/val'\n",
    "#     y_pred_val = model.predict(X_val)\n",
    "#     model_func.calc_metrics(y_val, y_pred_val, save_to_val)\n",
    "#     model_func.roc_pr(y_val, y_pred_val, save_to_val)\n",
    "\n",
    "#     util_func.make_dir(f'{save_to_val}/delineation')\n",
    "#     plot_segments(X_val, y_val, zpad=zpad_length_val, idx=0, save_path=f'{save_to_val}/delineation/Expert_annotated.jpg') # Expert annotated\n",
    "#     plot_segments(X_val, y_pred_val, zpad=zpad_length_val, idx=0, save_path=f'{save_to_val}/delineation/Prediction.jpg') # Prediction\n",
    "#     # ====================================================\n",
    "\n",
    "#     # PREDICT test\n",
    "#     save_to_test = f'{result_path}/test'\n",
    "#     y_pred_test = model.predict(X_test)\n",
    "#     model_func.calc_metrics(y_test, y_pred_test, save_to_test)\n",
    "#     model_func.roc_pr(y_test, y_pred_test, save_to_test)\n",
    "\n",
    "#     util_func.make_dir(f'{save_to_test}/delineation')\n",
    "#     plot_segments(X_test, y_test, zpad=zpad_length_test, idx=0, save_path=f'{save_to_test}/delineation/Expert_annotated.jpg') # Expert annotated\n",
    "#     plot_segments(X_test, y_pred_test, zpad=zpad_length_test, idx=0, save_path=f'{save_to_test}/delineation/Prediction.jpg') # Prediction\n",
    "#     # ====================================================\n",
    "\n",
    "#     val_loss = history.history['val_loss'][-1]\n",
    "#     if np.isnan(val_loss):\n",
    "#         val_loss_score = 1 # High enough to not be picked\n",
    "#     else:\n",
    "#         val_loss_score = val_loss\n",
    "\n",
    "#     end_time = time.time()\n",
    "#     time_elapsed = end_time - start_time\n",
    "#     with open(f'{result_path}/Model_info.txt', 'w') as info_file:\n",
    "#         info_file.write(f'{model_name} | Last epoch val loss: {val_loss_score}\\n')\n",
    "#         info_file.write(f'Learning Rate: {lr} | n_layer: {n_layer} | Batch Size: {bs}\\n')\n",
    "#         info_file.write(f'Time elapsed: {time_elapsed:.2f} seconds\\n')\n",
    "\n",
    "#     return val_loss_score\n",
    "\n",
    "# objective_wrapper = partial(\n",
    "#     objective,\n",
    "#     X_train=X_train,X_val=X_val, X_test=X_test,\n",
    "#     y_train=y_train, y_val=y_val, y_test=y_test\n",
    "# )\n",
    "# sampler = optuna.samplers.CmaEsSampler()\n",
    "# study = optuna.create_study(study_name='cma-es', sampler=sampler, direction='minimize')\n",
    "# study.optimize(objective_wrapper, n_trials=20)"
   ]
  },
  {
   "cell_type": "code",
   "execution_count": null,
   "metadata": {},
   "outputs": [],
   "source": [
    "def generate_results(X_train, X_val, X_test, y_train, y_val, y_test, lead):\n",
    "    start_time = time.time()\n",
    "\n",
    "    # Good fit model architecture\n",
    "    lr = 0\n",
    "    n_layer = 0\n",
    "    bs = 0\n",
    "    epoch = 0\n",
    "\n",
    "    model_name = f'ConvBiLSTM--{lead}--LR_{lr}-Nlayer_{n_layer}-BS_{bs}-Epoch_{epoch}'\n",
    "    result_path = f'../result/{model_name}'\n",
    "    save_to_train = f'{result_path}/train'\n",
    "    save_to_val = f'{result_path}/val'\n",
    "    save_to_test = f'{result_path}/test'\n",
    "\n",
    "    util_func.make_dir(f'{save_to_train}/delineation')\n",
    "    util_func.make_dir(f'{save_to_val}/delineation')\n",
    "    util_func.make_dir(f'{save_to_test}/delineation')\n",
    "\n",
    "\n",
    "    model = model_func.generate_model((X_train.shape[1], 1), 8, lr=lr, n_layer=n_layer)\n",
    "    history = model.fit(X_train, y_train, epochs=epoch, batch_size=bs, validation_data=(X_val, y_val))\n",
    "\n",
    "    model.save(f'{model_name}.h5')\n",
    "    model_func.plot_acc_loss(history, result_path)\n",
    "\n",
    "    # PREDICT TRAIN\n",
    "    y_pred_train = model.predict(X_train)\n",
    "    model_func.calc_metrics(y_train, y_pred_train, save_to_train)\n",
    "    model_func.roc_pr(y_train, y_pred_train, save_to_train)\n",
    "    \n",
    "    for i in range(0, 41, 10):\n",
    "        plot_segments(X_train, y_train, zpad=zpad_length_train, idx=i, save_path=f'{save_to_train}/delineation/Expert_annotated_{i}.jpg') # Expert annotated\n",
    "        plot_segments(X_train, y_pred_train, zpad=zpad_length_train, idx=i, save_path=f'{save_to_train}/delineation/Prediction_{i}.jpg') # Prediction\n",
    "    # ====================================================\n",
    "\n",
    "    # PREDICT VALIDATION\n",
    "    y_pred_val = model.predict(X_val)\n",
    "    model_func.calc_metrics(y_val, y_pred_val, save_to_val)\n",
    "    model_func.roc_pr(y_val, y_pred_val, save_to_val)\n",
    "\n",
    "    for i in range(0, 41, 10):\n",
    "        plot_segments(X_val, y_val, zpad=zpad_length_val, idx=i, save_path=f'{save_to_val}/delineation/Expert_annotated_{i}.jpg') # Expert annotated\n",
    "        plot_segments(X_val, y_pred_val, zpad=zpad_length_val, idx=i, save_path=f'{save_to_val}/delineation/Prediction_{i}.jpg') # Prediction\n",
    "    # ====================================================\n",
    "\n",
    "    # PREDICT test\n",
    "    y_pred_test = model.predict(X_test)\n",
    "    model_func.calc_metrics(y_test, y_pred_test, save_to_test)\n",
    "    model_func.roc_pr(y_test, y_pred_test, save_to_test)\n",
    "\n",
    "    for i in range(0, 41, 10):\n",
    "        plot_segments(X_test, y_test, zpad=zpad_length_test, idx=i, save_path=f'{save_to_test}/delineation/Expert_annotated_{i}.jpg') # Expert annotated\n",
    "        plot_segments(X_test, y_pred_test, zpad=zpad_length_test, idx=i, save_path=f'{save_to_test}/delineation/Prediction_{i}.jpg') # Prediction\n",
    "    # ====================================================\n",
    "\n",
    "    end_time = time.time()\n",
    "    time_elapsed = end_time - start_time\n",
    "    with open(f'{result_path}/Model_info.txt', 'w') as info_file:\n",
    "        info_file.write(f'{model_name}\\n')\n",
    "        info_file.write(f'Learning Rate: {lr} | n_layer: {n_layer} | Batch Size: {bs}\\n | Epoch: {epoch}')\n",
    "        info_file.write(f'Time elapsed: {time_elapsed:.2f} seconds\\n')"
   ]
  },
  {
   "cell_type": "code",
   "execution_count": null,
   "metadata": {},
   "outputs": [],
   "source": [
    "# generate_results(X_train, X_val, X_test, y_train, y_val, y_test, lead='i_ii_iii')"
   ]
  },
  {
   "cell_type": "markdown",
   "metadata": {},
   "source": [
    "#### **Transfer Learning Model Hafizh**"
   ]
  },
  {
   "cell_type": "code",
   "execution_count": null,
   "metadata": {},
   "outputs": [],
   "source": [
    "# def transfer_learning_fine_tune(base_model):\n",
    "#     base_model.trainable = False"
   ]
  },
  {
   "cell_type": "code",
   "execution_count": null,
   "metadata": {},
   "outputs": [],
   "source": []
  }
 ],
 "metadata": {
  "kernelspec": {
   "display_name": "env",
   "language": "python",
   "name": "python3"
  },
  "language_info": {
   "codemirror_mode": {
    "name": "ipython",
    "version": 3
   },
   "file_extension": ".py",
   "mimetype": "text/x-python",
   "name": "python",
   "nbconvert_exporter": "python",
   "pygments_lexer": "ipython3",
   "version": "3.11.1"
  },
  "orig_nbformat": 4
 },
 "nbformat": 4,
 "nbformat_minor": 2
}
